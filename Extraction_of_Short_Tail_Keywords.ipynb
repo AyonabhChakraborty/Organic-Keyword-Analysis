{
  "nbformat": 4,
  "nbformat_minor": 0,
  "metadata": {
    "colab": {
      "provenance": []
    },
    "kernelspec": {
      "name": "python3",
      "display_name": "Python 3"
    },
    "language_info": {
      "name": "python"
    }
  },
  "cells": [
    {
      "cell_type": "code",
      "execution_count": null,
      "metadata": {
        "id": "7UYBXxLgEUwq"
      },
      "outputs": [],
      "source": [
        "import requests\n",
        "from bs4 import BeautifulSoup\n",
        "from collections import Counter\n",
        "import matplotlib.pyplot as plt\n",
        "\n",
        "comp_url = 'https://example.com'\n",
        "\n",
        "\n",
        "response = requests.get(comp_url)\n",
        "soup = BeautifulSoup(response.text, 'html.parser')\n",
        "\n",
        "keywords = []\n",
        "\n",
        "#Extraction of keywords from meta tags\n",
        "meta_keywords = soup.find_all('meta', attrs={'name':'keywords'})\n",
        "for meta_keyword in meta_keywords:\n",
        "  keyword_content = meta_keyword.get('content')\n",
        "  if keyword_content:\n",
        "    keywords.extend(keyword_content.split(','))\n",
        "print(keywords)\n",
        "\n",
        "\n",
        "#Extraction of keywords from headings\n",
        "headings = soup.find_all(['h1','h2','h3','h4','h5','h6'])\n",
        "for heading in headings:\n",
        "  keywords.extend(heading.get_text().split())\n",
        "print(keywords)\n",
        "\n",
        "#Extracting keywords from anchor text\n",
        "anchor_tags = soup.find_all('a')\n",
        "for anchor_tag in anchor_tags:\n",
        "  keywords.extend(anchor_tag.get_text().split())\n",
        "print(keywords)\n",
        "\n",
        "\n",
        "#Extract keywords from paragraphs\n",
        "other_elements = soup.find_all(['p','ul','ol','li','td'])\n",
        "for element in other_elements:\n",
        "   keywords.extend(element.get_text().split())\n",
        "print(keywords)\n",
        "\n",
        "#Preprocess the keywords\n",
        "cleaned_keywords = [keyword.strip().lower() for keyword in keywords]\n",
        "\n",
        "#Analysing Keyword Frequency\n",
        "keyword_counts = Counter(cleaned_keywords)\n",
        "\n",
        "#Display the Keywords\n",
        "top_keywords = keyword_counts.most_common(100)\n",
        "for keyword,count in top_keywords:\n",
        "  print(f'{keyword}: {count} times')\n",
        "\n",
        "#Data Visualization\n",
        "keyword_data = keyword_counts.most_common(100)\n",
        "keywords, counts = zip(*keyword_data)\n",
        "\n",
        "\n",
        "plt.figure(figsize=(21,21))\n",
        "plt.barh(keywords, counts)\n",
        "plt.xlabel('Frequency')\n",
        "plt.ylabel('Keywords')\n",
        "plt.title('Top Keywords driving Organic Traffic')\n",
        "plt.gca().invert_yaxis()\n",
        "plt.show()\n",
        "\n"
      ]
    }
  ]
}