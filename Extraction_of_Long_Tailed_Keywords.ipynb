{
  "nbformat": 4,
  "nbformat_minor": 0,
  "metadata": {
    "colab": {
      "provenance": []
    },
    "kernelspec": {
      "name": "python3",
      "display_name": "Python 3"
    },
    "language_info": {
      "name": "python"
    }
  },
  "cells": [
    {
      "cell_type": "code",
      "execution_count": null,
      "metadata": {
        "id": "gzitr7SSEd1g"
      },
      "outputs": [],
      "source": [
        "import requests\n",
        "from bs4 import BeautifulSoup\n",
        "from collections import Counter\n",
        "import re\n",
        "\n",
        "comp_url = 'https://www.globalrecruitment.net/job-search-outplacement-services/'\n",
        "\n",
        "response = requests.get(comp_url)\n",
        "soup = BeautifulSoup(response.text, 'html.parser')\n",
        "\n",
        "def extract_long_tailed_keywords(text):\n",
        "  phrases = re.findall(r'\\b\\w+(?:\\s+\\w+){1,2}\\b', text)\n",
        "  return phrases\n",
        "\n",
        "long_tailed_keywords = []\n",
        "\n",
        "meta_keywords = soup.find_all('meta', attrs={'name' : 'keywords'})\n",
        "for meta_keyword in meta_keywords:\n",
        "  keyword_content = meta_keyword.get('content')\n",
        "  if keyword_content:\n",
        "    long_tailed_keywords.extend(extract_long_tailed_keywords(keyword_content))\n",
        "\n",
        "headings = soup.find_all(['h1','h2','h3','h4','h5','h6'])\n",
        "for heading in headings:\n",
        "  long_tailed_keywords.extend(extract_long_tailed_keywords(heading.get_text()))\n",
        "\n",
        "anchor_tags = soup.find_all('a')\n",
        "for anchor_tag in anchor_tags:\n",
        "  long_tailed_keywords.extend(extract_long_tailed_keywords(anchor_tag.text))\n",
        "\n",
        "other_elements = soup.find_all(['p','ul','li','td'])\n",
        "for element in other_elements:\n",
        "  long_tailed_keywords.extend(extract_long_tailed_keywords(element.text))\n",
        "\n",
        "cleaned_keywords = [keyword.strip().lower() for keyword in long_tailed_keywords]\n",
        "\n",
        "long_tailed_keyword_counts = Counter(cleaned_keywords)\n",
        "\n",
        "for keyword, count in long_tailed_keyword_counts.items():\n",
        "  print(f'{keyword} : {count} times')"
      ]
    }
  ]
}